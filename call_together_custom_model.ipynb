{
 "cells": [
  {
   "cell_type": "code",
   "execution_count": 7,
   "id": "505cd501-397f-4233-be02-c261bb0fcf55",
   "metadata": {},
   "outputs": [],
   "source": [
    "import os\n",
    "import together\n",
    "from dotenv import load_dotenv"
   ]
  },
  {
   "cell_type": "code",
   "execution_count": 8,
   "id": "8a22cfb8-1179-42ad-947e-c13c14c56c1c",
   "metadata": {},
   "outputs": [
    {
     "data": {
      "text/plain": [
       "True"
      ]
     },
     "execution_count": 8,
     "metadata": {},
     "output_type": "execute_result"
    }
   ],
   "source": [
    "load_dotenv()"
   ]
  },
  {
   "cell_type": "code",
   "execution_count": 9,
   "id": "f87186f7-a84b-41ce-ab97-34ed8d1c06df",
   "metadata": {},
   "outputs": [],
   "source": [
    "together.api_key = os.environ[\"TOGETHER_API_KEY\"]"
   ]
  },
  {
   "cell_type": "code",
   "execution_count": 14,
   "id": "dee242b7-99a7-47d9-badb-618a0cca1172",
   "metadata": {},
   "outputs": [],
   "source": [
    "output = together.Complete.create(\n",
    "  prompt = \"//Build a chatbot using langcahin/ndef bot():\", \n",
    "  model = \"my_email/Mistral-7B-v0.1-mistral_langchain-finetune-2024-01-14-03-06-07\", \n",
    "  max_tokens = 256,\n",
    "  temperature = 0.8,\n",
    "  top_k = 60,\n",
    "  top_p = 0.6,\n",
    "  repetition_penalty = 1.1,\n",
    "  stop = []\n",
    ")\n",
    "\n"
   ]
  },
  {
   "cell_type": "code",
   "execution_count": 15,
   "id": "b11329d1-43eb-4555-a7e8-8f25cf9171d0",
   "metadata": {},
   "outputs": [
    {
     "name": "stdout",
     "output_type": "stream",
     "text": [
      "Fine tune output: \n",
      "//https://python.langchain.com/en/latest/modules/agents/how_to/defining_chat_models.html\n",
      "from langchain_community.chat_models import ChatNeflix\n",
      "from langchain_core.messages import AIMessage, HumanMessage\n",
      "\n",
      "chat = ChatNeflix(neflix_api_key=\"YOUR_NEFLIX_API_KEY\")\n",
      "messages = [\n",
      "    HumanMessage(content=\"Who is the director of Jaws?\"),\n",
      "    AIMessage(content=chat(\"What is his name?\")),\n",
      "]\n",
      "print(chat(messages))\n",
      "from langchain.agents import AgentType, initialize_agent\n",
      "from langchain_openai import OpenAI\n",
      "llm = OpenAI(temperature=0)\n",
      "chat = ChatNeflix()\n",
      "agent = initialize_agent(\n",
      "    agent=AgentType.ZERO_SHOT_REACT_DESCRIPTION,\n",
      "    tools=[chat],\n",
      "    llm=llm,\n",
      "    verbose=True,\n",
      ")\n",
      "output = agent.run(input=\"What are some movies directed by Steven Spielberg?\")\n",
      "print(output)\n",
      "\n"
     ]
    }
   ],
   "source": [
    "print(\"Fine tune output:\",output['output']['choices'][0]['text'])"
   ]
  },
  {
   "cell_type": "code",
   "execution_count": null,
   "id": "4c500d5a-1909-4318-b5db-be5318da8462",
   "metadata": {},
   "outputs": [],
   "source": []
  }
 ],
 "metadata": {
  "kernelspec": {
   "display_name": "Python 3 (ipykernel)",
   "language": "python",
   "name": "python3"
  },
  "language_info": {
   "codemirror_mode": {
    "name": "ipython",
    "version": 3
   },
   "file_extension": ".py",
   "mimetype": "text/x-python",
   "name": "python",
   "nbconvert_exporter": "python",
   "pygments_lexer": "ipython3",
   "version": "3.9.18"
  }
 },
 "nbformat": 4,
 "nbformat_minor": 5
}
